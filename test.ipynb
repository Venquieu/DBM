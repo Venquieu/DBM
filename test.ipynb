{
 "metadata": {
  "language_info": {
   "codemirror_mode": {
    "name": "ipython",
    "version": 3
   },
   "file_extension": ".py",
   "mimetype": "text/x-python",
   "name": "python",
   "nbconvert_exporter": "python",
   "pygments_lexer": "ipython3",
   "version": "3.8.4-candidate"
  },
  "orig_nbformat": 2,
  "kernelspec": {
   "name": "Python 3.8.4 64-bit",
   "display_name": "Python 3.8.4 64-bit",
   "metadata": {
    "interpreter": {
     "hash": "9b89d41dbce500a9e4a75233eedfb6eda5a8fa06ceb707e9ffea7884033aef06"
    }
   }
  }
 },
 "nbformat": 4,
 "nbformat_minor": 2,
 "cells": [
  {
   "cell_type": "code",
   "execution_count": 12,
   "metadata": {
    "tags": []
   },
   "outputs": [
    {
     "output_type": "stream",
     "name": "stdout",
     "text": "&lt;!DOCTYPE html &gt;\n&lt;html&gt;\n&lt;head&gt;\n    &lt;meta charset=&quot;utf-8&quot;&gt;\n    &lt;meta http-equiv=&quot;X-UA-Compatible&quot; content=&quot;IE=edge,chrome=1&quot;&gt;\n    &lt;meta name=&quot;viewport&quot; content=&quot;width=device-width,initial-scale=1,minimum-scale=1,maximum-scale=1,user-scalable=no&quot; /&gt;\n    &lt;title&gt;统一身份认证&lt;/title&gt;\n    \n    &lt;link href=&quot;/sso/resources/UL2nkCKMJd/static/css/modules/login.59e5cedaf1dab6ca4e135f00b9135185.css?48edc40cc5b4a1af1a0c&quot;\n          rel=&quot;stylesheet&quot;&gt;\n    \n&lt;/head&gt;\n&lt;body&gt;\n&lt;div id=&quot;app&quot;&gt;&lt;/div&gt;\n&lt;input id=&quot;x_random&quot; type=&quot;hidden&quot; value=https://ehall.jlu.edu.cn/sso/oauth2/authorize?scope=openid&amp;amp;amp;response_type=code&amp;amp;amp;redirect_uri=https%3A%2F%2Fehall.jlu.edu.cn%2Finfoplus%2Flogin%3FretUrl%3Dhttps%253A%252F%252Fehall.jlu.edu.cn%252Finfoplus%252Foauth2%252Fauthorize%253Fx_redirected%253Dtrue%2526scope%253Dprofile%252Bprofile_edit%252Bapp%252Btask%252Bprocess%252Bsubmit%252Bprocess_edit%252Btriple%252Bstats%252Bsys_profile%252Bsys_enterprise%252Bsys_triple%252Bsys_stats%252Bsys_entrust%252Bsys_entrust_edit%2526response_type%253Dcode%2526redirect_uri%253Dhttps%25253A%25252F%25252Fehall.jlu.edu.cn%25252Ftaskcenter%25252Fwall%25252Fendpoint%25253FretUrl%25253Dhttps%2525253A%2525252F%2525252Fehall.jlu.edu.cn%2525252Ftaskcenter%2525252Fworkflow%2525252Findex%2526client_id%253D1640e2e4-f213-11e3-815d-fa163e9215bb&amp;amp;amp;state=ca7c35&amp;amp;amp;client_id=bwDBpMCWbid5RFcljQRP /&gt;\n&lt;input class=&quot;for-form&quot; type=&quot;hidden&quot; name=&quot;lt&quot; value=&quot;&quot;&gt;\n&lt;input class=&quot;for-form&quot; type=&quot;hidden&quot; name=&quot;pid&quot; value=&quot;ua9nsvjd&quot; /&gt;\n&lt;span id=&quot;errorcode&quot; class=&quot;for-form errorerror&quot; value=&quot;&quot;&gt;&lt;/span&gt;\n&lt;span id=&quot;errormes&quot;  class=&quot;for-form errorerror&quot; value=&quot;&quot;&gt;&lt;/span&gt;\n&lt;input class=&quot;for-form&quot; type=&quot;hidden&quot; name=&quot;source&quot; id=&quot;login-type&quot; value=&quot;&quot;&gt;\n&lt;input class=&quot;for-form&quot;type=&quot;hidden&quot; name=&quot;execution&quot; value=&quot;&quot;&gt;\n\n&lt;script type=&quot;text/javascript&quot;\n        src=&quot;/sso/resources/UL2nkCKMJd/static/js/modules/login.febec387c0d3785254e2.js?48edc40cc5b4a1af1a0c&quot;&gt;&lt;/script&gt;\n\n&lt;/body&gt;\n&lt;/html&gt;\n\n"
    }
   ],
   "source": [
    "import requests\n",
    "\n",
    "url = 'https://ehall.jlu.edu.cn/'\n",
    "headers = {\n",
    "    'user-agent':'Mozilla/5.0 (Windows NT 10.0; Win64; x64) AppleWebKit/537.36 (KHTML, like Gecko) Chrome/85.0.4183.121 Safari/537.36'\n",
    "}\n",
    "response = requests.get(url,headers = headers)\n",
    "print(response.text)\n"
   ]
  },
  {
   "cell_type": "code",
   "execution_count": 8,
   "metadata": {
    "tags": []
   },
   "outputs": [
    {
     "output_type": "stream",
     "name": "stdout",
     "text": "{&#39;errno&#39;: 0, &#39;data&#39;: [{&#39;k&#39;: &#39;你好&#39;, &#39;v&#39;: &#39;[nǐ hǎo] how do you do; how are you; hello;&#39;}, {&#39;k&#39;: &#39;你好，陌生人&#39;, &#39;v&#39;: &#39;网络 Hello Stranger; knowing me knowing you;&#39;}, {&#39;k&#39;: &#39;你好吗&#39;, &#39;v&#39;: &#39;How are you; How are you doing; How do you do;&#39;}]}\n"
    }
   ],
   "source": [
    "#post\n",
    "url = 'https://fanyi.baidu.com/sug'\n",
    "headers = {\n",
    "    'user-agent':'Mozilla/5.0 (Windows NT 10.0; Win64; x64) AppleWebKit/537.36 (KHTML, like Gecko) Chrome/85.0.4183.121 Safari/537.36'\n",
    "}\n",
    "data = {'kw':'你好'}\n",
    "res = requests.post(url,data=data)\n",
    "print(res.json())"
   ]
  },
  {
   "cell_type": "code",
   "execution_count": 8,
   "metadata": {
    "tags": []
   },
   "outputs": [
    {
     "output_type": "stream",
     "name": "stdout",
     "text": "200\n"
    }
   ],
   "source": [
    "import requests\n",
    "from bs4 import BeautifulSoup\n",
    "\n",
    "#请求的目标地址\n",
    "url = 'https://ehall.jlu.edu.cn/taskcenter/workflow/index'\n",
    "#登录请求的地址\n",
    "request_url = 'https://ehall.jlu.edu.cn/sso/login'\n",
    "#请求头\n",
    "headers = {\n",
    "    'user-agent':'Mozilla/5.0 (Windows NT 10.0; Win64; x64) AppleWebKit/537.36 (KHTML, like Gecko) Chrome/85.0.4183.121 Safari/537.36'\n",
    "}\n",
    "\n",
    "#登录时的数据\n",
    "data = {\n",
    "    'username': 'liwj19',\n",
    "    'password': 'lee284512',\n",
    "    #'pid': 'tws9cpn6',\n",
    "    #'source': ''\n",
    "}\n",
    "\n",
    "#需要爬虫记录并携带cookie的话，先调用session()方法\n",
    "req = requests.session()\n",
    "res = req.post(url=request_url,headers = headers,data=data)\n",
    "print(res.status_code)\n",
    "if res.status_code == 200:\n",
    "    res = req.get(url = url,headers = headers)\n",
    "    with open('cache.html','w') as fp:\n",
    "        fp.write(res.text)\n",
    "html_doc = res.text\n",
    "soup = BeautifulSoup(html_doc,'lxml')\n",
    "'''\n",
    "print(response) # <Response [200]> \n",
    "print(response.content)# b....' 二进制的文本流\n",
    "print(response.text)\n",
    "print(response.text) #获取响应的内容\n",
    "print(response.status_code) #请求状态码200\n",
    "print(response.url) # 请求的urL地址\n",
    "print(response.request.headers) #请求的头信息\n",
    "print(response.headers)#响应的头信息\n",
    "'''"
   ]
  },
  {
   "cell_type": "code",
   "execution_count": 11,
   "metadata": {
    "tags": []
   },
   "outputs": [],
   "source": [
    "from UserSetting import *\n",
    "from DBM import JLU_Helper\n",
    "import time\n",
    "import random\n",
    "\n",
    "is_finished = False #not login yet\n",
    "last_hour = -1\n",
    "key_words = {\n",
    "    'Chinese':['登录成功','如有其它相关说明，请点击','确定','好','办理成功','确定'],\n",
    "    'English':['登录成功','If you have anything to comment,please click','Ok','Ok','Done successfully!','Ok']\n",
    "}\n"
   ]
  },
  {
   "cell_type": "code",
   "execution_count": 20,
   "metadata": {
    "tags": []
   },
   "outputs": [
    {
     "output_type": "error",
     "ename": "SyntaxError",
     "evalue": "invalid character in identifier (&lt;ipython-input-20-273f3bf88d74&gt;, line 28)",
     "traceback": [
      "\u001b[1;36m  File \u001b[1;32m&quot;&lt;ipython-input-20-273f3bf88d74&gt;&quot;\u001b[1;36m, line \u001b[1;32m28\u001b[0m\n\u001b[1;33m    elements[0].send_keys(Keys.ENTER，&#39;吉林省&#39;)\u001b[0m\n\u001b[1;37m                                    ^\u001b[0m\n\u001b[1;31mSyntaxError\u001b[0m\u001b[1;31m:\u001b[0m invalid character in identifier\n"
     ]
    }
   ],
   "source": [
    "from selenium.webdriver.common.keys import Keys\n",
    "pt = 2\n",
    "helper = JLU_Helper(users[0],key_words,pause_time=pause_time)\n",
    "helper.login()\n",
    "#helper.auto_fill_in()\n",
    "helper.browser.get('https://ehall.jlu.edu.cn/infoplus/form/YJSMRDK/start')\n",
    "pf = helper.browser.find_element_by_id('V1_CTRL40')\n",
    "pf.clear()\n",
    "pf.send_keys(users[0]['profession'])\n",
    "helper.browser.find_element_by_id('V1_CTRL40').send_keys(users[0]['profession'])\n",
    "time.sleep(pt)\n",
    "#grade\n",
    "select = Select(helper.browser.find_element_by_id('V1_CTRL41'))\n",
    "select.select_by_visible_text(users[0]['grade'])\n",
    "time.sleep(pt)\n",
    "#campus\n",
    "select = Select(helper.browser.find_element_by_id('V1_CTRL42'))\n",
    "select.select_by_visible_text(users[0]['campus'])\n",
    "time.sleep(pt)\n",
    "#apartment\n",
    "select = Select(helper.browser.find_element_by_id('V1_CTRL7'))\n",
    "select.select_by_visible_text('校外居住')\n",
    "time.sleep(pt)\n",
    "\n",
    "elements = helper.browser.find_elements_by_xpath(\"//input[contains(@id,'_activeInput')]\")\n",
    "print('--------------',len(elements))  # should be 3\n",
    "time.sleep(pt)\n",
    "elements[0].send_keys('吉林省')\n",
    "elements[0].send_keys(Keys.ENTER)\n",
    "time.sleep(pt)\n",
    "ActionChains(helper.browser).move_to_element(elements[0]).perform()\n",
    "helper.browser.find_element_by_xpath(\"//div[contains(text(),{})]\".format('吉林省')).click()\n",
    "time.sleep(pt)"
   ]
  },
  {
   "cell_type": "code",
   "execution_count": null,
   "metadata": {},
   "outputs": [],
   "source": []
  }
 ]
}